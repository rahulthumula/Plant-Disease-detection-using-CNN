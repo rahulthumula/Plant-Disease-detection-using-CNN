{
  "nbformat": 4,
  "nbformat_minor": 0,
  "metadata": {
    "colab": {
      "provenance": []
    },
    "kernelspec": {
      "name": "python3",
      "display_name": "Python 3"
    },
    "language_info": {
      "name": "python"
    },
    "accelerator": "GPU",
    "gpuClass": "standard"
  },
  "cells": [
    {
      "cell_type": "code",
      "execution_count": null,
      "metadata": {
        "id": "b6_mF5EqmHwy"
      },
      "outputs": [],
      "source": [
        "import numpy as np\n",
        "import pandas as pd\n",
        "import pickle\n",
        "import cv2\n",
        "from os import listdir\n",
        "from sklearn.preprocessing import LabelBinarizer\n",
        "from keras.models import Sequential\n",
        "from tensorflow.keras.layers import BatchNormalization\n",
        "from keras.layers.convolutional import Conv2D\n",
        "from keras.layers.convolutional import MaxPooling2D\n",
        "from keras.layers.core import Activation, Flatten, Dropout, Dense\n",
        "from keras import backend as K\n",
        "from keras.preprocessing.image import ImageDataGenerator\n",
        "from keras.optimizers import Adam\n",
        "from keras.preprocessing import image\n",
        "from tensorflow.keras.utils import img_to_array\n",
        "from sklearn.preprocessing import MultiLabelBinarizer\n",
        "from sklearn.model_selection import train_test_split\n",
        "import matplotlib.pyplot as plt\n",
        "from keras.losses import categorical_crossentropy\n",
        "from sklearn.metrics import confusion_matrix,classification_report\n",
        "from keras.utils.vis_utils import plot_model\n",
        "from tensorflow.keras.utils import load_img"
      ]
    },
    {
      "cell_type": "code",
      "source": [
        "EPOCHS = 25\n",
        "INIT_LR = 1e-3\n",
        "BS = 32\n",
        "default_image_size = tuple((256, 256))\n",
        "image_size = 0\n",
        "\n",
        "directory_root = '/content/archive.zip'\n",
        "!unzip \"/content/archive.zip\" -d \"/content/\"\n",
        "width=256\n",
        "height=256\n",
        "depth=3\n"
      ],
      "metadata": {
        "id": "ktlGfZ_QmLLj"
      },
      "execution_count": null,
      "outputs": []
    },
    {
      "cell_type": "code",
      "source": [
        "def convert_image_to_array(image_dir):\n",
        "    try:\n",
        "        image = cv2.imread(image_dir)\n",
        "        if image is not None :\n",
        "            image = cv2.resize(image, default_image_size)   \n",
        "            return img_to_array(image)\n",
        "        else :\n",
        "            return np.array([])\n",
        "    except Exception as e:\n",
        "        print(f\"Error : {e}\")\n",
        "        return None"
      ],
      "metadata": {
        "id": "-B8UPtOkmMZe"
      },
      "execution_count": null,
      "outputs": []
    },
    {
      "cell_type": "code",
      "source": [
        "directory_root = \"/content/plantvillage/\"\n",
        "print(len(listdir(directory_root)))"
      ],
      "metadata": {
        "colab": {
          "base_uri": "https://localhost:8080/"
        },
        "id": "qNsLKWclsu9Z",
        "outputId": "6eb40bc5-4d3d-4c41-9fd9-63af643f6561"
      },
      "execution_count": null,
      "outputs": [
        {
          "output_type": "stream",
          "name": "stdout",
          "text": [
            "1\n"
          ]
        }
      ]
    },
    {
      "cell_type": "code",
      "source": [
        "image_list, label_list = [], []\n",
        "try:\n",
        "    print(\"[INFO] Loading images ...\")\n",
        "    root_dir = listdir(directory_root)\n",
        "    for directory in root_dir :\n",
        "        # remove .DS_Store from list\n",
        "        if directory == \".DS_Store\" :\n",
        "            root_dir.remove(directory)\n",
        "\n",
        "    for plant_folder in root_dir :\n",
        "        plant_disease_folder_list = listdir(f\"{directory_root}/{plant_folder}\")\n",
        "        \n",
        "        for disease_folder in plant_disease_folder_list :\n",
        "            # remove .DS_Store from list\n",
        "            if disease_folder == \".DS_Store\" :\n",
        "                plant_disease_folder_list.remove(disease_folder)\n",
        "\n",
        "        for plant_disease_folder in plant_disease_folder_list:\n",
        "            print(f\"[INFO] Processing {plant_disease_folder} ...\")\n",
        "            plant_disease_image_list = listdir(f\"{directory_root}/{plant_folder}/{plant_disease_folder}/\")\n",
        "                \n",
        "            for single_plant_disease_image in plant_disease_image_list :\n",
        "                if single_plant_disease_image == \".DS_Store\" :\n",
        "                    plant_disease_image_list.remove(single_plant_disease_image)\n",
        "\n",
        "            for image in plant_disease_image_list[:200]:\n",
        "                image_directory = f\"{directory_root}/{plant_folder}/{plant_disease_folder}/{image}\"\n",
        "                if image_directory.endswith(\".jpg\") == True or image_directory.endswith(\".JPG\") == True:\n",
        "                    image_list.append(convert_image_to_array(image_directory))\n",
        "                    label_list.append(plant_disease_folder)\n",
        "    print(\"[INFO] Image loading completed\")  \n",
        "except Exception as e:\n",
        "    print(f\"Error : {e}\")"
      ],
      "metadata": {
        "colab": {
          "base_uri": "https://localhost:8080/"
        },
        "id": "lRFNzyZ-peSt",
        "outputId": "a5635ea5-42b7-4833-cdd2-ef3b43f24841"
      },
      "execution_count": null,
      "outputs": [
        {
          "output_type": "stream",
          "name": "stdout",
          "text": [
            "[INFO] Loading images ...\n",
            "[INFO] Processing Tomato_Septoria_leaf_spot ...\n",
            "[INFO] Processing Tomato_healthy ...\n",
            "[INFO] Processing Potato___Early_blight ...\n",
            "[INFO] Processing Tomato_Early_blight ...\n",
            "[INFO] Processing Pepper__bell___Bacterial_spot ...\n",
            "[INFO] Processing Tomato_Late_blight ...\n",
            "[INFO] Processing Tomato__Tomato_mosaic_virus ...\n",
            "[INFO] Processing Potato___healthy ...\n",
            "[INFO] Processing Tomato_Leaf_Mold ...\n",
            "[INFO] Processing Tomato_Bacterial_spot ...\n",
            "[INFO] Processing Tomato_Spider_mites_Two_spotted_spider_mite ...\n",
            "[INFO] Processing Pepper__bell___healthy ...\n",
            "[INFO] Processing Tomato__Tomato_YellowLeaf__Curl_Virus ...\n",
            "[INFO] Processing Tomato__Target_Spot ...\n",
            "[INFO] Processing Potato___Late_blight ...\n",
            "[INFO] Image loading completed\n"
          ]
        }
      ]
    },
    {
      "cell_type": "code",
      "source": [
        "image_size = len(image_list)\n",
        "print(image_size)"
      ],
      "metadata": {
        "colab": {
          "base_uri": "https://localhost:8080/"
        },
        "id": "L30187qHs6-e",
        "outputId": "f898b3ec-1fdb-4caf-eeaf-0eaf7eaf66ed"
      },
      "execution_count": null,
      "outputs": [
        {
          "output_type": "stream",
          "name": "stdout",
          "text": [
            "2951\n"
          ]
        }
      ]
    },
    {
      "cell_type": "code",
      "source": [
        "label_binarizer = LabelBinarizer()\n",
        "image_labels = label_binarizer.fit_transform(label_list)\n",
        "pickle.dump(label_binarizer,open('label_transform.pkl', 'wb'))\n",
        "n_classes = len(label_binarizer.classes_)\n",
        "print(n_classes)"
      ],
      "metadata": {
        "colab": {
          "base_uri": "https://localhost:8080/"
        },
        "id": "o2W-TUZuwDKX",
        "outputId": "820af867-c838-43cc-8454-3d06b92368ca"
      },
      "execution_count": null,
      "outputs": [
        {
          "output_type": "stream",
          "name": "stdout",
          "text": [
            "15\n"
          ]
        }
      ]
    },
    {
      "cell_type": "code",
      "source": [
        "print(label_binarizer.classes_)"
      ],
      "metadata": {
        "colab": {
          "base_uri": "https://localhost:8080/"
        },
        "id": "QPksClgkwuWt",
        "outputId": "f2e445c9-ba52-49ca-b737-15c5f04d8641"
      },
      "execution_count": null,
      "outputs": [
        {
          "output_type": "stream",
          "name": "stdout",
          "text": [
            "['Pepper__bell___Bacterial_spot' 'Pepper__bell___healthy'\n",
            " 'Potato___Early_blight' 'Potato___Late_blight' 'Potato___healthy'\n",
            " 'Tomato_Bacterial_spot' 'Tomato_Early_blight' 'Tomato_Late_blight'\n",
            " 'Tomato_Leaf_Mold' 'Tomato_Septoria_leaf_spot'\n",
            " 'Tomato_Spider_mites_Two_spotted_spider_mite' 'Tomato__Target_Spot'\n",
            " 'Tomato__Tomato_YellowLeaf__Curl_Virus' 'Tomato__Tomato_mosaic_virus'\n",
            " 'Tomato_healthy']\n"
          ]
        }
      ]
    },
    {
      "cell_type": "code",
      "source": [
        "\n",
        "np_image_list = np.array(image_list, dtype=np.float16) / 225.0"
      ],
      "metadata": {
        "id": "qPKxF-0iwvwR"
      },
      "execution_count": null,
      "outputs": []
    },
    {
      "cell_type": "code",
      "source": [
        "x_train, x_test, y_train, y_test = train_test_split(np_image_list, image_labels, test_size=0.2, random_state = 42) "
      ],
      "metadata": {
        "id": "q5UxOdGNzHYh"
      },
      "execution_count": null,
      "outputs": []
    },
    {
      "cell_type": "code",
      "source": [
        "aug = ImageDataGenerator(\n",
        "    rotation_range=25, width_shift_range=0.1,\n",
        "    height_shift_range=0.1, shear_range=0.2, \n",
        "    zoom_range=0.2,horizontal_flip=True, \n",
        "    fill_mode=\"nearest\")\n"
      ],
      "metadata": {
        "id": "wA37E_QVzaH0"
      },
      "execution_count": null,
      "outputs": []
    },
    {
      "cell_type": "code",
      "source": [
        "model = Sequential()\n",
        "inputShape = (height, width, depth)\n",
        "chanDim = -1\n",
        "if K.image_data_format() == \"channels_first\":\n",
        "    inputShape = (depth, height, width)\n",
        "    chanDim = 1\n",
        "model.add(Conv2D(32, (3, 3), padding=\"same\",input_shape=inputShape))\n",
        "model.add(Activation(\"relu\"))\n",
        "model.add(BatchNormalization(axis=chanDim))\n",
        "model.add(MaxPooling2D(pool_size=(3, 3)))\n",
        "model.add(Dropout(0.25))\n",
        "model.add(Conv2D(64, (3, 3), padding=\"same\"))\n",
        "model.add(Activation(\"relu\"))\n",
        "model.add(BatchNormalization(axis=chanDim))\n",
        "model.add(Conv2D(64, (3, 3), padding=\"same\"))\n",
        "model.add(Activation(\"relu\"))\n",
        "model.add(BatchNormalization(axis=chanDim))\n",
        "model.add(MaxPooling2D(pool_size=(2, 2)))\n",
        "model.add(Dropout(0.25))\n",
        "model.add(Conv2D(128, (3, 3), padding=\"same\"))\n",
        "model.add(Activation(\"relu\"))\n",
        "model.add(BatchNormalization(axis=chanDim))\n",
        "model.add(Conv2D(128, (3, 3), padding=\"same\"))\n",
        "model.add(Activation(\"relu\"))\n",
        "model.add(BatchNormalization(axis=chanDim))\n",
        "model.add(MaxPooling2D(pool_size=(2, 2)))\n",
        "model.add(Dropout(0.25))\n",
        "model.add(Flatten())\n",
        "model.add(Dense(1024))\n",
        "model.add(Activation(\"relu\"))\n",
        "model.add(BatchNormalization())\n",
        "model.add(Dropout(0.5))\n",
        "model.add(Dense(n_classes))\n",
        "model.add(Activation(\"softmax\"))"
      ],
      "metadata": {
        "id": "_02lzSdAz0wI"
      },
      "execution_count": null,
      "outputs": []
    },
    {
      "cell_type": "code",
      "source": [
        "opt = Adam(lr=INIT_LR, decay=INIT_LR / EPOCHS)\n",
        "# distribution\n",
        "model.compile(loss=\"binary_crossentropy\", optimizer=opt,metrics=[\"accuracy\"])"
      ],
      "metadata": {
        "colab": {
          "base_uri": "https://localhost:8080/"
        },
        "id": "B3rwLBp78npk",
        "outputId": "3a7046d6-f599-42d6-cfc6-c58899ea11bd"
      },
      "execution_count": null,
      "outputs": [
        {
          "output_type": "stream",
          "name": "stderr",
          "text": [
            "/usr/local/lib/python3.10/dist-packages/keras/optimizers/legacy/adam.py:117: UserWarning: The `lr` argument is deprecated, use `learning_rate` instead.\n",
            "  super().__init__(name, **kwargs)\n"
          ]
        }
      ]
    },
    {
      "cell_type": "code",
      "source": [
        "history = model.fit_generator(\n",
        "    aug.flow(x_train, y_train, batch_size=BS),\n",
        "    validation_data=(x_test, y_test),\n",
        "    steps_per_epoch=len(x_train) // BS,\n",
        "    epochs=EPOCHS, verbose=1\n",
        "    )"
      ],
      "metadata": {
        "colab": {
          "base_uri": "https://localhost:8080/"
        },
        "id": "wNAJ-2g59AFE",
        "outputId": "59640434-0a08-4023-bfa6-79f2d55c39ab"
      },
      "execution_count": null,
      "outputs": [
        {
          "output_type": "stream",
          "name": "stderr",
          "text": [
            "<ipython-input-20-f5a41846f0f2>:1: UserWarning: `Model.fit_generator` is deprecated and will be removed in a future version. Please use `Model.fit`, which supports generators.\n",
            "  history = model.fit_generator(\n"
          ]
        },
        {
          "output_type": "stream",
          "name": "stdout",
          "text": [
            "Epoch 1/25\n",
            "73/73 [==============================] - 48s 507ms/step - loss: 0.6340 - accuracy: 0.2496 - val_loss: 0.2905 - val_accuracy: 0.0694\n",
            "Epoch 2/25\n",
            "73/73 [==============================] - 34s 457ms/step - loss: 0.2183 - accuracy: 0.4635 - val_loss: 0.4602 - val_accuracy: 0.0626\n",
            "Epoch 3/25\n",
            "73/73 [==============================] - 34s 458ms/step - loss: 0.1452 - accuracy: 0.6091 - val_loss: 0.6497 - val_accuracy: 0.0609\n",
            "Epoch 4/25\n",
            "73/73 [==============================] - 34s 467ms/step - loss: 0.1345 - accuracy: 0.6452 - val_loss: 0.8246 - val_accuracy: 0.0592\n",
            "Epoch 5/25\n",
            "73/73 [==============================] - 34s 462ms/step - loss: 0.1129 - accuracy: 0.7109 - val_loss: 0.6675 - val_accuracy: 0.1201\n",
            "Epoch 6/25\n",
            "73/73 [==============================] - 34s 462ms/step - loss: 0.1027 - accuracy: 0.7453 - val_loss: 0.6573 - val_accuracy: 0.1844\n",
            "Epoch 7/25\n",
            "73/73 [==============================] - 34s 459ms/step - loss: 0.0955 - accuracy: 0.7659 - val_loss: 0.6360 - val_accuracy: 0.2927\n",
            "Epoch 8/25\n",
            "73/73 [==============================] - 33s 448ms/step - loss: 0.0883 - accuracy: 0.7857 - val_loss: 0.2105 - val_accuracy: 0.4738\n",
            "Epoch 9/25\n",
            "73/73 [==============================] - 34s 466ms/step - loss: 0.0839 - accuracy: 0.8028 - val_loss: 0.3171 - val_accuracy: 0.6345\n",
            "Epoch 10/25\n",
            "73/73 [==============================] - 33s 452ms/step - loss: 0.0838 - accuracy: 0.7960 - val_loss: 0.1649 - val_accuracy: 0.6988\n",
            "Epoch 11/25\n",
            "73/73 [==============================] - 34s 464ms/step - loss: 0.0794 - accuracy: 0.8187 - val_loss: 0.1450 - val_accuracy: 0.7073\n",
            "Epoch 12/25\n",
            "73/73 [==============================] - 34s 463ms/step - loss: 0.0781 - accuracy: 0.8179 - val_loss: 0.5190 - val_accuracy: 0.3875\n",
            "Epoch 13/25\n",
            "73/73 [==============================] - 34s 467ms/step - loss: 0.0717 - accuracy: 0.8479 - val_loss: 0.2187 - val_accuracy: 0.5821\n",
            "Epoch 14/25\n",
            "73/73 [==============================] - 34s 458ms/step - loss: 0.0796 - accuracy: 0.8166 - val_loss: 2.3168 - val_accuracy: 0.0829\n",
            "Epoch 15/25\n",
            "73/73 [==============================] - 34s 464ms/step - loss: 0.1214 - accuracy: 0.6980 - val_loss: 0.3676 - val_accuracy: 0.4332\n",
            "Epoch 16/25\n",
            "73/73 [==============================] - 33s 449ms/step - loss: 0.0876 - accuracy: 0.7857 - val_loss: 0.3930 - val_accuracy: 0.3790\n",
            "Epoch 17/25\n",
            "73/73 [==============================] - 34s 467ms/step - loss: 0.0753 - accuracy: 0.8209 - val_loss: 0.6918 - val_accuracy: 0.1777\n",
            "Epoch 18/25\n",
            "73/73 [==============================] - 33s 458ms/step - loss: 0.0694 - accuracy: 0.8363 - val_loss: 0.2189 - val_accuracy: 0.5448\n",
            "Epoch 19/25\n",
            "73/73 [==============================] - 33s 455ms/step - loss: 0.0627 - accuracy: 0.8600 - val_loss: 0.1228 - val_accuracy: 0.7242\n",
            "Epoch 20/25\n",
            "73/73 [==============================] - 34s 469ms/step - loss: 0.0569 - accuracy: 0.8767 - val_loss: 0.2571 - val_accuracy: 0.5753\n",
            "Epoch 21/25\n",
            "73/73 [==============================] - 34s 466ms/step - loss: 0.0561 - accuracy: 0.8767 - val_loss: 0.0922 - val_accuracy: 0.7665\n",
            "Epoch 22/25\n",
            "73/73 [==============================] - 33s 450ms/step - loss: 0.0634 - accuracy: 0.8561 - val_loss: 0.5955 - val_accuracy: 0.5178\n",
            "Epoch 23/25\n",
            "73/73 [==============================] - 34s 457ms/step - loss: 0.0584 - accuracy: 0.8724 - val_loss: 0.0905 - val_accuracy: 0.7783\n",
            "Epoch 24/25\n",
            "73/73 [==============================] - 34s 470ms/step - loss: 0.0550 - accuracy: 0.8746 - val_loss: 0.3146 - val_accuracy: 0.4856\n",
            "Epoch 25/25\n",
            "73/73 [==============================] - 34s 471ms/step - loss: 0.0495 - accuracy: 0.9072 - val_loss: 0.1449 - val_accuracy: 0.6954\n"
          ]
        }
      ]
    },
    {
      "cell_type": "code",
      "source": [
        "acc = history.history['accuracy']\n",
        "val_acc = history.history['val_accuracy']\n",
        "loss = history.history['loss']\n",
        "val_loss = history.history['val_loss']\n",
        "epochs = range(1, len(acc) + 1)\n",
        "#Train and validation accuracy\n",
        "plt.plot(epochs, acc, 'b', label='Training accurarcy')\n",
        "plt.plot(epochs, val_acc, 'r', label='Validation accurarcy')\n",
        "plt.title('Training and Validation accurarcy')\n",
        "plt.legend()\n",
        "plt.figure()\n",
        "#Train and validation loss\n",
        "plt.plot(epochs, loss, 'b', label='Training loss')\n",
        "plt.plot(epochs, val_loss, 'r', label='Validation loss')\n",
        "plt.title('Training and Validation loss')\n",
        "plt.legend()\n",
        "plt.show()"
      ],
      "metadata": {
        "colab": {
          "base_uri": "https://localhost:8080/",
          "height": 887
        },
        "id": "ili7F6duEzeR",
        "outputId": "18d54183-e813-439b-9905-051fae26c34a"
      },
      "execution_count": null,
      "outputs": [
        {
          "output_type": "display_data",
          "data": {
            "text/plain": [
              "<Figure size 640x480 with 1 Axes>"
            ],
            "image/png": "[encoded data removed]"
          },
          "metadata": {}
        },
        {
          "output_type": "display_data",
          "data": {
            "text/plain": [
              "<Figure size 640x480 with 1 Axes>"
            ],
            "image/png": "[encoded data removed]"
          },
          "metadata": {}
        }
      ]
    },
    {
      "cell_type": "code",
      "source": [
        "im1 = load_img('/content/4-17.png')\n",
        "\n",
        "im=convert_image_to_array('/content/4-17.png')\n",
        "np_image_li = np.array(im, dtype=np.float16) / 225.0\n",
        "npp_image = np.expand_dims(np_image_li, axis=0)\n"
      ],
      "metadata": {
        "id": "0GGw86pcg-22"
      },
      "execution_count": null,
      "outputs": []
    },
    {
      "cell_type": "code",
      "source": [
        "result=model.predict(npp_image)\n",
        "print(result)"
      ],
      "metadata": {
        "colab": {
          "base_uri": "https://localhost:8080/"
        },
        "id": "_2YY2kXxjfDr",
        "outputId": "84a3bcf0-765d-46fc-c7c1-b3002ea23394"
      },
      "execution_count": null,
      "outputs": [
        {
          "output_type": "stream",
          "name": "stdout",
          "text": [
            "1/1 [==============================] - 0s 362ms/step\n",
            "[[9.2021037e-06 1.7413640e-06 4.1532965e-07 6.7214728e-15 2.9830574e-07\n",
            "  1.5640770e-11 2.1206165e-07 9.9998808e-01 2.5879504e-15 2.7473597e-08\n",
            "  1.7867128e-14 4.6940564e-14 2.2878544e-09 4.8774609e-15 7.3660036e-11]]\n"
          ]
        }
      ]
    },
    {
      "cell_type": "code",
      "source": [
        "itemindex = np.where(result==np.max(result))\n",
        "print(\"probability:\"+str(np.max(result))+\"\\n\"+label_binarizer.classes_[itemindex[1][0]])"
      ],
      "metadata": {
        "colab": {
          "base_uri": "https://localhost:8080/"
        },
        "id": "0MyamnpAkaLY",
        "outputId": "4dbb5bca-9c7e-4605-dea2-d800c4b0e50c"
      },
      "execution_count": null,
      "outputs": [
        {
          "output_type": "stream",
          "name": "stdout",
          "text": [
            "probability:0.9999881\n",
            "Tomato_Late_blight\n"
          ]
        }
      ]
    }
  ]
}